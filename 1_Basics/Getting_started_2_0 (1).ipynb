{
  "cells": [
    {
      "cell_type": "code",
      "execution_count": 9,
      "metadata": {
        "id": "GGYlZSekowjm"
      },
      "outputs": [],
      "source": [
        "job_titles = [\n",
        "    \"Data Scientist\", \"Data Analyst\", \"Machine Learning Engineer\", \"AI Engineer\",\n",
        "    \"Business Intelligence Analyst\", \"Big Data Engineer\", \"Data Engineer\",\n",
        "    \"Deep Learning Engineer\", \"Statistician\", \"Quantitative Analyst\",\n",
        "    \"Research Scientist\", \"Analytics Consultant\", \"Predictive Modeler\",\n",
        "    \"Data Architect\", \"ETL Developer\", \"Database Administrator\",\n",
        "    \"Data Visualization Specialist\", \"Decision Scientist\", \"Computer Vision Engineer\",\n",
        "    \"NLP Engineer\", \"Marketing Data Analyst\", \"Fraud Analyst\",\n",
        "    \"Product Data Scientist\", \"Operations Research Analyst\", \"Financial Data Analyst\",\n",
        "    \"Customer Insights Analyst\", \"Healthcare Data Analyst\", \"Risk Analyst\",\n",
        "    \"Supply Chain Analyst\", \"Cybersecurity Data Analyst\"\n",
        "]"
      ]
    },
    {
      "cell_type": "code",
      "execution_count": 10,
      "metadata": {
        "colab": {
          "base_uri": "https://localhost:8080/"
        },
        "id": "lwsqudCRo3PG",
        "outputId": "4959eaba-2807-4eb6-bf7c-cb546624bb42"
      },
      "outputs": [
        {
          "data": {
            "text/plain": [
              "['Data Scientist',\n",
              " 'Data Analyst',\n",
              " 'Machine Learning Engineer',\n",
              " 'AI Engineer',\n",
              " 'Business Intelligence Analyst',\n",
              " 'Big Data Engineer',\n",
              " 'Data Engineer',\n",
              " 'Deep Learning Engineer',\n",
              " 'Statistician',\n",
              " 'Quantitative Analyst',\n",
              " 'Research Scientist',\n",
              " 'Analytics Consultant',\n",
              " 'Predictive Modeler',\n",
              " 'Data Architect',\n",
              " 'ETL Developer',\n",
              " 'Database Administrator',\n",
              " 'Data Visualization Specialist',\n",
              " 'Decision Scientist',\n",
              " 'Computer Vision Engineer',\n",
              " 'NLP Engineer',\n",
              " 'Marketing Data Analyst',\n",
              " 'Fraud Analyst',\n",
              " 'Product Data Scientist',\n",
              " 'Operations Research Analyst',\n",
              " 'Financial Data Analyst',\n",
              " 'Customer Insights Analyst',\n",
              " 'Healthcare Data Analyst',\n",
              " 'Risk Analyst',\n",
              " 'Supply Chain Analyst',\n",
              " 'Cybersecurity Data Analyst']"
            ]
          },
          "execution_count": 10,
          "metadata": {},
          "output_type": "execute_result"
        }
      ],
      "source": [
        "job_titles"
      ]
    },
    {
      "cell_type": "code",
      "execution_count": 11,
      "metadata": {
        "id": "pNSkSAP9o54u"
      },
      "outputs": [],
      "source": [
        "data_titles = [job for job in job_titles if 'Data' in job]"
      ]
    },
    {
      "cell_type": "code",
      "execution_count": 12,
      "metadata": {
        "colab": {
          "base_uri": "https://localhost:8080/"
        },
        "id": "t4qARUOEpR7h",
        "outputId": "908d9320-732a-4eb9-d7c8-3858e616e0c7"
      },
      "outputs": [
        {
          "data": {
            "text/plain": [
              "['Data Scientist',\n",
              " 'Data Analyst',\n",
              " 'Big Data Engineer',\n",
              " 'Data Engineer',\n",
              " 'Data Architect',\n",
              " 'Database Administrator',\n",
              " 'Data Visualization Specialist',\n",
              " 'Marketing Data Analyst',\n",
              " 'Product Data Scientist',\n",
              " 'Financial Data Analyst',\n",
              " 'Healthcare Data Analyst',\n",
              " 'Cybersecurity Data Analyst']"
            ]
          },
          "execution_count": 12,
          "metadata": {},
          "output_type": "execute_result"
        }
      ],
      "source": [
        "data_titles"
      ]
    },
    {
      "cell_type": "code",
      "execution_count": 13,
      "metadata": {
        "id": "hx-QF_3XuUyZ"
      },
      "outputs": [],
      "source": [
        "job_roles = [\n",
        "    {'role': 'Data Analyst', 'skills': ['Python', 'SQL', 'Excel']},\n",
        "    {'role': 'Data Scientist', 'skills': ['Python', 'R', 'Machine Learning', 'Deep Learning']},\n",
        "    {'role': 'Machine Learning Engineer', 'skills': ['Python', 'TensorFlow', 'PyTorch', 'Scikit-Learn']},\n",
        "    {'role': 'Data Engineer', 'skills': ['Python', 'Apache Spark', 'Hadoop', 'SQL']},\n",
        "    {'role': 'Business Intelligence Analyst', 'skills': ['Python', 'SQL', 'Tableau', 'Power BI', 'Excel']},\n",
        "    {'role': 'Quantitative Analyst', 'skills': ['R', 'Python', 'MATLAB', 'Statistics']},\n",
        "    {'role': 'Operations Analyst', 'skills': ['Python', 'SQL', 'Data Visualization', 'Process Improvement']},\n",
        "    {'role': 'Database Administrator', 'skills': ['SQL', 'Oracle', 'MySQL', 'Database Management']},\n",
        "    {'role': 'AI Engineer', 'skills': ['Python', 'TensorFlow', 'PyTorch', 'Computer Vision']},\n",
        "    {'role': 'Statistician', 'skills': ['R', 'SAS', 'Python', 'Statistical Modeling']}\n",
        "]\n",
        "# My skills\n",
        "my_skills = ['Python', 'SQL', 'R']"
      ]
    },
    {
      "cell_type": "code",
      "execution_count": 14,
      "metadata": {
        "colab": {
          "base_uri": "https://localhost:8080/"
        },
        "id": "qDXnteKTyMas",
        "outputId": "d3e6e44f-9976-4f14-f928-76101af95716"
      },
      "outputs": [
        {
          "name": "stdout",
          "output_type": "stream",
          "text": [
            "Data Analyst\n",
            "Data Scientist\n",
            "Machine Learning Engineer\n",
            "Data Engineer\n",
            "Business Intelligence Analyst\n",
            "Quantitative Analyst\n",
            "Operations Analyst\n",
            "Database Administrator\n",
            "AI Engineer\n",
            "Statistician\n"
          ]
        }
      ],
      "source": [
        "\n",
        "for job in job_roles:\n",
        "    qualified = True\n",
        "    for skill in my_skills:\n",
        "      if skill not in my_skills:\n",
        "        qualified = False\n",
        "        break\n",
        "    if qualified:\n",
        "      print(job['role'])\n"
      ]
    },
    {
      "cell_type": "code",
      "execution_count": 15,
      "metadata": {
        "colab": {
          "base_uri": "https://localhost:8080/"
        },
        "id": "PGfHjZXUFjDc",
        "outputId": "abf35537-04cd-4f84-ef6f-81aa706dd71c"
      },
      "outputs": [
        {
          "name": "stdout",
          "output_type": "stream",
          "text": [
            "The salary for a Data Scientist is 100000\n"
          ]
        }
      ],
      "source": [
        "def job_salary(job_title, salary):\n",
        "  print(f\"The salary for a {job_title} is {salary}\")\n",
        "\n",
        "job_salary('Data Scientist', 100000)\n",
        "\n",
        "\n",
        "\n"
      ]
    },
    {
      "cell_type": "code",
      "execution_count": 16,
      "metadata": {
        "colab": {
          "base_uri": "https://localhost:8080/"
        },
        "id": "8Wk4EX8xH0Lb",
        "outputId": "26f81d74-de70-4e23-e5e3-9c47f6252e3a"
      },
      "outputs": [
        {
          "data": {
            "text/plain": [
              "315000.0"
            ]
          },
          "execution_count": 16,
          "metadata": {},
          "output_type": "execute_result"
        }
      ],
      "source": [
        "def salary_calculator(base_salary, bonus_rate = .05):\n",
        "  total_salary = base_salary + (base_salary * bonus_rate)\n",
        "  return total_salary\n",
        "salary1 = 300000\n",
        "\n",
        "salary_calculator(salary1)\n"
      ]
    },
    {
      "cell_type": "code",
      "execution_count": 17,
      "metadata": {
        "id": "ucnZCWYYb5Ed"
      },
      "outputs": [],
      "source": [
        "salaries = [\n",
        "    50000, 55000, 60000, 65000, 70000, 75000, 80000, 85000, 90000, 95000,\n",
        "    100000, 110000, 120000, 130000, 140000, 150000, 160000, 170000, 180000, 190000,\n",
        "    200000, 210000, 220000, 230000, 240000, 250000, 260000, 270000, 280000, 290000,\n",
        "    300000, 320000, 340000, 360000, 380000, 400000, 420000, 440000, 460000, 480000,\n",
        "    500000, 520000, 540000, 560000, 580000, 600000, 620000, 640000, 660000, 680000\n",
        "]"
      ]
    },
    {
      "cell_type": "code",
      "execution_count": 18,
      "metadata": {
        "colab": {
          "base_uri": "https://localhost:8080/"
        },
        "id": "7znHke8ZcpTG",
        "outputId": "f89187e6-6321-4fd9-d459-1584a6268770"
      },
      "outputs": [
        {
          "data": {
            "text/plain": [
              "[75000.0,\n",
              " 82500.0,\n",
              " 90000.0,\n",
              " 97500.0,\n",
              " 105000.0,\n",
              " 112500.0,\n",
              " 120000.0,\n",
              " 127500.0,\n",
              " 135000.0,\n",
              " 142500.0,\n",
              " 150000.0,\n",
              " 165000.0,\n",
              " 180000.0,\n",
              " 195000.0,\n",
              " 210000.0,\n",
              " 225000.0,\n",
              " 240000.0,\n",
              " 255000.0,\n",
              " 270000.0,\n",
              " 285000.0,\n",
              " 300000.0,\n",
              " 315000.0,\n",
              " 330000.0,\n",
              " 345000.0,\n",
              " 360000.0,\n",
              " 375000.0,\n",
              " 390000.0,\n",
              " 405000.0,\n",
              " 420000.0,\n",
              " 435000.0,\n",
              " 450000.0,\n",
              " 480000.0,\n",
              " 510000.0,\n",
              " 540000.0,\n",
              " 570000.0,\n",
              " 600000.0,\n",
              " 630000.0,\n",
              " 660000.0,\n",
              " 690000.0,\n",
              " 720000.0,\n",
              " 750000.0,\n",
              " 780000.0,\n",
              " 810000.0,\n",
              " 840000.0,\n",
              " 870000.0,\n",
              " 900000.0,\n",
              " 930000.0,\n",
              " 960000.0,\n",
              " 990000.0,\n",
              " 1020000.0]"
            ]
          },
          "execution_count": 18,
          "metadata": {},
          "output_type": "execute_result"
        }
      ],
      "source": [
        "Salary = [(salary * 1.5) for salary in salaries]\n",
        "Salary"
      ]
    },
    {
      "cell_type": "code",
      "execution_count": 19,
      "metadata": {
        "colab": {
          "base_uri": "https://localhost:8080/"
        },
        "id": "Z5oNlMAVePCg",
        "outputId": "0c642086-0872-4b83-f62e-b50f2225652b"
      },
      "outputs": [
        {
          "name": "stdout",
          "output_type": "stream",
          "text": [
            "Help on class filter in module builtins:\n",
            "\n",
            "class filter(object)\n",
            " |  filter(function or None, iterable) --> filter object\n",
            " |  \n",
            " |  Return an iterator yielding those items of iterable for which function(item)\n",
            " |  is true. If function is None, return the items that are true.\n",
            " |  \n",
            " |  Methods defined here:\n",
            " |  \n",
            " |  __getattribute__(self, name, /)\n",
            " |      Return getattr(self, name).\n",
            " |  \n",
            " |  __iter__(self, /)\n",
            " |      Implement iter(self).\n",
            " |  \n",
            " |  __next__(self, /)\n",
            " |      Implement next(self).\n",
            " |  \n",
            " |  __reduce__(...)\n",
            " |      Return state information for pickling.\n",
            " |  \n",
            " |  ----------------------------------------------------------------------\n",
            " |  Static methods defined here:\n",
            " |  \n",
            " |  __new__(*args, **kwargs)\n",
            " |      Create and return a new object.  See help(type) for accurate signature.\n",
            "\n"
          ]
        }
      ],
      "source": [
        "help(filter)"
      ]
    },
    {
      "cell_type": "code",
      "execution_count": 20,
      "metadata": {
        "id": "LCsoz_CGeSDN"
      },
      "outputs": [],
      "source": [
        "job_roles = [\n",
        "    {'role': 'Data Analyst', 'skills': ['Python', 'SQL', 'Excel']},\n",
        "    {'role': 'Data Scientist', 'skills': ['Python', 'R', 'Machine Learning', 'Deep Learning']},\n",
        "    {'role': 'Machine Learning Engineer', 'skills': ['Python', 'TensorFlow', 'PyTorch', 'Scikit-Learn']},\n",
        "    {'role': 'Data Engineer', 'skills': ['Python', 'Apache Spark', 'Hadoop', 'SQL']},\n",
        "    {'role': 'Business Intelligence Analyst', 'skills': ['Python', 'SQL', 'Tableau', 'Power BI', 'Excel']},\n",
        "    {'role': 'Quantitative Analyst', 'skills': ['R', 'Python', 'MATLAB', 'Statistics']},\n",
        "    {'role': 'Operations Analyst', 'skills': ['Python', 'SQL', 'Data Visualization', 'Process Improvement']},\n",
        "    {'role': 'Database Administrator', 'skills': ['SQL', 'Oracle', 'MySQL', 'Database Management']},\n",
        "    {'role': 'AI Engineer', 'skills': ['Python', 'TensorFlow', 'PyTorch', 'Computer Vision']},\n",
        "    {'role': 'Statistician', 'skills': ['R', 'SAS', 'Python', 'Statistical Modeling']}]\n",
        "\n",
        "my_skills = ['Python', 'SQL', 'Excel']"
      ]
    },
    {
      "cell_type": "code",
      "execution_count": 21,
      "metadata": {
        "colab": {
          "base_uri": "https://localhost:8080/"
        },
        "id": "EdMJ5ANpeywZ",
        "outputId": "d10a2105-9627-453c-c60b-16a731f08564"
      },
      "outputs": [
        {
          "data": {
            "text/plain": [
              "['Data Analyst', 'Business Intelligence Analyst']"
            ]
          },
          "execution_count": 21,
          "metadata": {},
          "output_type": "execute_result"
        }
      ],
      "source": [
        "qualified = []\n",
        "for job in job_roles:\n",
        "  if all(skill in job['skills'] for skill in my_skills):\n",
        "    qualified.append(job['role'])\n",
        "\n",
        "qualified\n",
        "\n"
      ]
    },
    {
      "cell_type": "code",
      "execution_count": 22,
      "metadata": {
        "id": "4oMC3MbefnvH"
      },
      "outputs": [],
      "source": [
        "job_id = 28"
      ]
    },
    {
      "cell_type": "code",
      "execution_count": 23,
      "metadata": {
        "colab": {
          "base_uri": "https://localhost:8080/"
        },
        "id": "y-1JFn8y2TXT",
        "outputId": "90c4affb-b70c-4a21-ca46-b0aca7f0bb46"
      },
      "outputs": [
        {
          "data": {
            "text/plain": [
              "False"
            ]
          },
          "execution_count": 23,
          "metadata": {},
          "output_type": "execute_result"
        }
      ],
      "source": [
        "isinstance(job_id, float)"
      ]
    },
    {
      "cell_type": "code",
      "execution_count": 24,
      "metadata": {
        "id": "1WgfjJvQ2adi"
      },
      "outputs": [],
      "source": [
        "NAME = \"aDitya JaNgid\""
      ]
    },
    {
      "cell_type": "code",
      "execution_count": 25,
      "metadata": {
        "colab": {
          "base_uri": "https://localhost:8080/",
          "height": 35
        },
        "id": "bcDHVMkW3P1U",
        "outputId": "a21e4934-7803-40ce-b367-4d596b25307a"
      },
      "outputs": [
        {
          "data": {
            "text/plain": [
              "'ADITYA JANGID'"
            ]
          },
          "execution_count": 25,
          "metadata": {},
          "output_type": "execute_result"
        }
      ],
      "source": [
        "NAME.upper()"
      ]
    },
    {
      "cell_type": "code",
      "execution_count": 26,
      "metadata": {
        "colab": {
          "base_uri": "https://localhost:8080/",
          "height": 35
        },
        "id": "P0elw1TI3XdD",
        "outputId": "44153883-055d-453c-947a-b2cf1e0725cc"
      },
      "outputs": [
        {
          "data": {
            "text/plain": [
              "'aditya jangid don'"
            ]
          },
          "execution_count": 26,
          "metadata": {},
          "output_type": "execute_result"
        }
      ],
      "source": [
        "NAME.lower() + \" don\""
      ]
    },
    {
      "cell_type": "code",
      "execution_count": 27,
      "metadata": {
        "colab": {
          "base_uri": "https://localhost:8080/"
        },
        "id": "eX0Fz7hQ4d6O",
        "outputId": "69ab1469-8d1e-4b2b-83a4-0f7bc4d50de0"
      },
      "outputs": [
        {
          "data": {
            "text/plain": [
              "13"
            ]
          },
          "execution_count": 27,
          "metadata": {},
          "output_type": "execute_result"
        }
      ],
      "source": [
        "len(NAME)"
      ]
    },
    {
      "cell_type": "code",
      "execution_count": 30,
      "metadata": {
        "id": "foAR3ilUEBR9"
      },
      "outputs": [],
      "source": [
        "Job_Roles = [\n",
        "    {'role': 'Data Analyst', 'skills': ['Python', 'SQL', 'Excel']},\n",
        "    {'role': 'Data Scientist', 'skills': ['Python', 'R', 'Machine Learning', 'Deep Learning']},\n",
        "    {'role': 'Machine Learning Engineer', 'skills': ['Python', 'TensorFlow', 'PyTorch', 'Scikit-Learn']},\n",
        "    {'role': 'Data Engineer', 'skills': ['Python', 'Apache Spark', 'Hadoop', 'SQL']},\n",
        "    {'role': 'Business Intelligence Analyst', 'skills': ['Python', 'SQL', 'Tableau', 'Power BI', 'Excel']},\n",
        "    {'role': 'Quantitative Analyst', 'skills': ['R', 'Python', 'MATLAB', 'Statistics']},\n",
        "    {'role': 'Operations Analyst', 'skills': ['Python', 'SQL', 'Data Visualization', 'Process Improvement']},\n",
        "    {'role': 'Database Administrator', 'skills': ['SQL', 'Oracle', 'MySQL', 'Database Management']},\n",
        "    {'role': 'AI Engineer', 'skills': ['Python', 'TensorFlow', 'PyTorch', 'Computer Vision']},\n",
        "    {'role': 'Statistician', 'skills': ['R', 'SAS', 'Python', 'Statistical Modeling']}\n",
        "]\n",
        "# My skills\n",
        "My_Skills = ['Python', 'SQL', 'Excel']\n"
      ]
    },
    {
      "cell_type": "code",
      "execution_count": 31,
      "metadata": {
        "colab": {
          "base_uri": "https://localhost:8080/"
        },
        "id": "aLT0Q2rFEDUL",
        "outputId": "46e4fbf9-dc8f-449b-ffe7-441134bf15af"
      },
      "outputs": [
        {
          "name": "stdout",
          "output_type": "stream",
          "text": [
            "[{'role': 'Data Analyst', 'skills': ['Python', 'SQL', 'Excel']}]\n"
          ]
        }
      ],
      "source": [
        "Skills_Needed = []\n",
        "for job in Job_Roles:\n",
        "  if My_Skills == job['skills']:\n",
        "    Skills_Needed.append(job)\n",
        "\n",
        "print(Skills_Needed)\n"
      ]
    },
    {
      "cell_type": "code",
      "execution_count": 32,
      "metadata": {
        "colab": {
          "base_uri": "https://localhost:8080/",
          "height": 35
        },
        "id": "dV5mbza0Rbqt",
        "outputId": "263e9239-2af0-4656-f56c-d72c10fda1e5"
      },
      "outputs": [
        {
          "data": {
            "text/plain": [
              "'Hello Aditya'"
            ]
          },
          "execution_count": 32,
          "metadata": {},
          "output_type": "execute_result"
        }
      ],
      "source": [
        "def greet(name):\n",
        "  return(\"Hello \"+ name)\n",
        "\n",
        "greet(\"Aditya\")\n"
      ]
    },
    {
      "cell_type": "code",
      "execution_count": 33,
      "metadata": {
        "id": "FHYmV0yBSuWo"
      },
      "outputs": [],
      "source": [
        "def sum_two_number(num1, num2):\n",
        "  Total_sum = num1 + num2\n",
        "  return(Total_sum)"
      ]
    },
    {
      "cell_type": "code",
      "execution_count": 34,
      "metadata": {
        "colab": {
          "base_uri": "https://localhost:8080/"
        },
        "id": "JXnNjvYdTC48",
        "outputId": "48516439-5dae-4ae2-f8b2-881f95ba9c79"
      },
      "outputs": [
        {
          "data": {
            "text/plain": [
              "2480306"
            ]
          },
          "execution_count": 34,
          "metadata": {},
          "output_type": "execute_result"
        }
      ],
      "source": [
        "first = 103883\n",
        "second = 2376423\n",
        "\n",
        "sum_two_number(first, second)"
      ]
    },
    {
      "cell_type": "code",
      "execution_count": 35,
      "metadata": {
        "colab": {
          "base_uri": "https://localhost:8080/"
        },
        "id": "LhfX49rBTzWs",
        "outputId": "0a752df9-0b71-4e2a-c436-f7df6cb6446c"
      },
      "outputs": [
        {
          "data": {
            "text/plain": [
              "1398134"
            ]
          },
          "execution_count": 35,
          "metadata": {},
          "output_type": "execute_result"
        }
      ],
      "source": [
        "def find_max(a,b,c):\n",
        "  num = (a,b,c)\n",
        "  return(max(num))\n",
        "\n",
        "find_max(13414,139813,1398134)\n",
        "\n",
        "\n",
        "\n"
      ]
    },
    {
      "cell_type": "code",
      "execution_count": 36,
      "metadata": {
        "id": "GxxXd6f67JOt"
      },
      "outputs": [],
      "source": [
        "from datetime import datetime"
      ]
    },
    {
      "cell_type": "code",
      "execution_count": null,
      "metadata": {
        "id": "P7gg8K7k7NRP"
      },
      "outputs": [],
      "source": []
    }
  ],
  "metadata": {
    "colab": {
      "provenance": []
    },
    "kernelspec": {
      "display_name": "python_env",
      "language": "python",
      "name": "python3"
    },
    "language_info": {
      "codemirror_mode": {
        "name": "ipython",
        "version": 3
      },
      "file_extension": ".py",
      "mimetype": "text/x-python",
      "name": "python",
      "nbconvert_exporter": "python",
      "pygments_lexer": "ipython3",
      "version": "3.11.11"
    }
  },
  "nbformat": 4,
  "nbformat_minor": 0
}
