{
  "cells": [
    {
      "cell_type": "code",
      "execution_count": 2,
      "metadata": {
        "colab": {
          "base_uri": "https://localhost:8080/",
          "height": 237,
          "referenced_widgets": [
            "95404dac969f4712b2a7979e065f9917",
            "f120199922094ff7bcb219f51d4dd090",
            "ee4a103e5d054e428b8f57269ad7a16e",
            "7f8d1840572f4e99b3eb824126d5be29",
            "77acae76b1414c2cadb8308fd431477f",
            "33e4b9497bf3452485c8d2d1684a6da5",
            "1dbdc36b059d4348920d2ba448c228c9",
            "0a69c1987bdf4db7b7dfeb25477c0bf7",
            "221c6c954e444ce3b91d96c6a44237e9",
            "766c031a7f6241cdb1ec65d0c9eeed42",
            "251a9dd4c0384eeebd04f752e05aad9f",
            "653942d33e3b4773a68570da4913cedc",
            "2eeb7629de7c4fc48db3fe282cf81a70",
            "35c7f5b46a074ab5a7cef7050325691e",
            "61941c348fba42328788e88be8d5aef1",
            "c328a9596d664b3b94b7fdb59baf5592",
            "b0007d8a379847b4817cf42d6026fafc",
            "7e9e549e03b54497b7003f017655fb04",
            "5a8e56385b7444af98f717decd2b0832",
            "ed67165e79474389b62a8599488f52a2",
            "89a253efd9be4e6695fedb70be141f75",
            "a2dec25b4f9a4877acf4d333109d8bb0",
            "d8cf1a18b76947e283eb774121abfed7",
            "2e8de2e3f5934bf8a45421010f9864af",
            "82ee90da73604a77a6081823230a92e4",
            "66652c41cc914267a3c4d0a6092db049",
            "170e15e87f7b4ee9afb4035ecde8e690",
            "c4be06166a3c4bc388f39f11978b702f",
            "a90e8ab7fba54e2bb0229b446cdafe03",
            "4e963f8328674bf2a92a0db57a71115e",
            "d1bd1e9e5b2c425cb2fe1cc7207f9c44",
            "d50f925a4d4f416da65c99fba1e77ca5",
            "a2e931548a89480ebae327cd93c10a79"
          ]
        },
        "id": "dDVXEs2TADxL",
        "outputId": "afb7ed8c-5714-4b5f-99ec-f5290a437985"
      },
      "outputs": [],
      "source": [
        "import pandas as pd\n",
        "from datasets import load_dataset\n",
        "\n",
        "dataset = load_dataset('lukebarousse/data_jobs')\n",
        "df = dataset['train'].to_pandas()\n",
        "\n",
        "df['job_posted_date'] = pd.to_datetime(df['job_posted_date'])"
      ]
    },
    {
      "cell_type": "code",
      "execution_count": 3,
      "metadata": {
        "colab": {
          "base_uri": "https://localhost:8080/",
          "height": 300
        },
        "id": "qNK1TTxeBAEP",
        "outputId": "c2b6a897-eb71-4688-9b4f-19e45dc67bbb"
      },
      "outputs": [
        {
          "data": {
            "text/html": [
              "<div>\n",
              "<style scoped>\n",
              "    .dataframe tbody tr th:only-of-type {\n",
              "        vertical-align: middle;\n",
              "    }\n",
              "\n",
              "    .dataframe tbody tr th {\n",
              "        vertical-align: top;\n",
              "    }\n",
              "\n",
              "    .dataframe thead th {\n",
              "        text-align: right;\n",
              "    }\n",
              "</style>\n",
              "<table border=\"1\" class=\"dataframe\">\n",
              "  <thead>\n",
              "    <tr style=\"text-align: right;\">\n",
              "      <th></th>\n",
              "      <th>job_posted_date</th>\n",
              "      <th>salary_year_avg</th>\n",
              "      <th>salary_hour_avg</th>\n",
              "    </tr>\n",
              "  </thead>\n",
              "  <tbody>\n",
              "    <tr>\n",
              "      <th>count</th>\n",
              "      <td>785741</td>\n",
              "      <td>22003.000000</td>\n",
              "      <td>10662.000000</td>\n",
              "    </tr>\n",
              "    <tr>\n",
              "      <th>mean</th>\n",
              "      <td>2023-06-25 16:02:11.860248576</td>\n",
              "      <td>123286.274072</td>\n",
              "      <td>47.016598</td>\n",
              "    </tr>\n",
              "    <tr>\n",
              "      <th>min</th>\n",
              "      <td>2023-01-01 00:00:04</td>\n",
              "      <td>15000.000000</td>\n",
              "      <td>8.000000</td>\n",
              "    </tr>\n",
              "    <tr>\n",
              "      <th>25%</th>\n",
              "      <td>2023-03-20 10:05:48</td>\n",
              "      <td>90000.000000</td>\n",
              "      <td>27.500000</td>\n",
              "    </tr>\n",
              "    <tr>\n",
              "      <th>50%</th>\n",
              "      <td>2023-06-29 06:11:38</td>\n",
              "      <td>115000.000000</td>\n",
              "      <td>45.980000</td>\n",
              "    </tr>\n",
              "    <tr>\n",
              "      <th>75%</th>\n",
              "      <td>2023-09-27 01:01:16</td>\n",
              "      <td>150000.000000</td>\n",
              "      <td>61.159996</td>\n",
              "    </tr>\n",
              "    <tr>\n",
              "      <th>max</th>\n",
              "      <td>2023-12-31 23:59:58</td>\n",
              "      <td>960000.000000</td>\n",
              "      <td>391.000000</td>\n",
              "    </tr>\n",
              "    <tr>\n",
              "      <th>std</th>\n",
              "      <td>NaN</td>\n",
              "      <td>48312.449482</td>\n",
              "      <td>21.890738</td>\n",
              "    </tr>\n",
              "  </tbody>\n",
              "</table>\n",
              "</div>"
            ],
            "text/plain": [
              "                     job_posted_date  salary_year_avg  salary_hour_avg\n",
              "count                         785741     22003.000000     10662.000000\n",
              "mean   2023-06-25 16:02:11.860248576    123286.274072        47.016598\n",
              "min              2023-01-01 00:00:04     15000.000000         8.000000\n",
              "25%              2023-03-20 10:05:48     90000.000000        27.500000\n",
              "50%              2023-06-29 06:11:38    115000.000000        45.980000\n",
              "75%              2023-09-27 01:01:16    150000.000000        61.159996\n",
              "max              2023-12-31 23:59:58    960000.000000       391.000000\n",
              "std                              NaN     48312.449482        21.890738"
            ]
          },
          "execution_count": 3,
          "metadata": {},
          "output_type": "execute_result"
        }
      ],
      "source": [
        "df.describe()"
      ]
    },
    {
      "cell_type": "code",
      "execution_count": 4,
      "metadata": {
        "colab": {
          "base_uri": "https://localhost:8080/"
        },
        "id": "BoYWcE0nBTlL",
        "outputId": "26e80baa-715e-4286-cf27-a305f5af3f23"
      },
      "outputs": [
        {
          "data": {
            "text/plain": [
              "15000.0"
            ]
          },
          "execution_count": 4,
          "metadata": {},
          "output_type": "execute_result"
        }
      ],
      "source": [
        "df['salary_year_avg'].min()"
      ]
    },
    {
      "cell_type": "code",
      "execution_count": 5,
      "metadata": {
        "id": "EjcCtNWlBgpA"
      },
      "outputs": [],
      "source": [
        "min_salary = df['salary_year_avg'].idxmin()"
      ]
    },
    {
      "cell_type": "code",
      "execution_count": 6,
      "metadata": {
        "colab": {
          "base_uri": "https://localhost:8080/",
          "height": 617
        },
        "id": "pFzYogaTBowX",
        "outputId": "2990baf5-7b9a-489b-b703-ee57366bf1fd"
      },
      "outputs": [
        {
          "data": {
            "text/plain": [
              "job_title_short                                              Data Engineer\n",
              "job_title                                           Data Engineer - Hadoop\n",
              "job_location                                                        Brazil\n",
              "job_via                                                       via LinkedIn\n",
              "job_schedule_type                                                Full-time\n",
              "job_work_from_home                                                   False\n",
              "search_location                                                     Brazil\n",
              "job_posted_date                                        2023-12-09 10:05:30\n",
              "job_no_degree_mention                                                 True\n",
              "job_health_insurance                                                 False\n",
              "job_country                                                         Brazil\n",
              "salary_rate                                                           year\n",
              "salary_year_avg                                                    15000.0\n",
              "salary_hour_avg                                                        NaN\n",
              "company_name                                               Net2Source Inc.\n",
              "job_skills               ['java', 'python', 'oracle', 'aws', 'hadoop', ...\n",
              "job_type_skills          {'cloud': ['oracle', 'aws'], 'libraries': ['ha...\n",
              "Name: 665729, dtype: object"
            ]
          },
          "execution_count": 6,
          "metadata": {},
          "output_type": "execute_result"
        }
      ],
      "source": [
        "df.iloc[min_salary]"
      ]
    },
    {
      "cell_type": "code",
      "execution_count": 7,
      "metadata": {
        "colab": {
          "base_uri": "https://localhost:8080/"
        },
        "id": "5-rdTKb_ChIL",
        "outputId": "3044c4f8-9d1e-4e49-cfb4-ceb9062a0bbd"
      },
      "outputs": [
        {
          "data": {
            "text/plain": [
              "array(['Senior Data Engineer', 'Data Analyst', 'Data Engineer',\n",
              "       'Business Analyst', 'Data Scientist', 'Machine Learning Engineer',\n",
              "       'Senior Data Analyst', 'Cloud Engineer', 'Senior Data Scientist',\n",
              "       'Software Engineer'], dtype=object)"
            ]
          },
          "execution_count": 7,
          "metadata": {},
          "output_type": "execute_result"
        }
      ],
      "source": [
        "df['job_title_short'].unique()"
      ]
    },
    {
      "cell_type": "code",
      "execution_count": 8,
      "metadata": {
        "colab": {
          "base_uri": "https://localhost:8080/",
          "height": 429
        },
        "id": "t6l2hUsYCli1",
        "outputId": "cfaa46c5-13b4-4211-b401-98154f5b7624"
      },
      "outputs": [
        {
          "data": {
            "text/plain": [
              "job_title_short\n",
              "Data Analyst                 196075\n",
              "Data Engineer                186241\n",
              "Data Scientist               172286\n",
              "Business Analyst              49063\n",
              "Software Engineer             44929\n",
              "Senior Data Engineer          44563\n",
              "Senior Data Scientist         36957\n",
              "Senior Data Analyst           29216\n",
              "Machine Learning Engineer     14080\n",
              "Cloud Engineer                12331\n",
              "Name: count, dtype: int64"
            ]
          },
          "execution_count": 8,
          "metadata": {},
          "output_type": "execute_result"
        }
      ],
      "source": [
        "df['job_title_short'].value_counts()"
      ]
    },
    {
      "cell_type": "code",
      "execution_count": 9,
      "metadata": {
        "colab": {
          "base_uri": "https://localhost:8080/",
          "height": 429
        },
        "id": "AWScFp11CzKN",
        "outputId": "b7d502a6-07d5-4d17-8d78-3cc1a8c94057"
      },
      "outputs": [
        {
          "data": {
            "text/plain": [
              "job_title_short\n",
              "Business Analyst              85000.0\n",
              "Cloud Engineer                90000.0\n",
              "Data Analyst                  90000.0\n",
              "Data Engineer                125000.0\n",
              "Data Scientist               127500.0\n",
              "Machine Learning Engineer    106415.0\n",
              "Senior Data Analyst          111175.0\n",
              "Senior Data Engineer         147500.0\n",
              "Senior Data Scientist        155500.0\n",
              "Software Engineer             99150.0\n",
              "Name: salary_year_avg, dtype: float64"
            ]
          },
          "execution_count": 9,
          "metadata": {},
          "output_type": "execute_result"
        }
      ],
      "source": [
        "df.groupby('job_title_short')['salary_year_avg'].median()"
      ]
    },
    {
      "cell_type": "code",
      "execution_count": 10,
      "metadata": {
        "colab": {
          "base_uri": "https://localhost:8080/",
          "height": 394
        },
        "id": "z-5y0QtmDFo3",
        "outputId": "2946b877-0874-4be2-b4b8-d276cb061cfe"
      },
      "outputs": [
        {
          "data": {
            "text/html": [
              "<div>\n",
              "<style scoped>\n",
              "    .dataframe tbody tr th:only-of-type {\n",
              "        vertical-align: middle;\n",
              "    }\n",
              "\n",
              "    .dataframe tbody tr th {\n",
              "        vertical-align: top;\n",
              "    }\n",
              "\n",
              "    .dataframe thead th {\n",
              "        text-align: right;\n",
              "    }\n",
              "</style>\n",
              "<table border=\"1\" class=\"dataframe\">\n",
              "  <thead>\n",
              "    <tr style=\"text-align: right;\">\n",
              "      <th></th>\n",
              "      <th>salary_year_avg</th>\n",
              "      <th>salary_hour_avg</th>\n",
              "    </tr>\n",
              "    <tr>\n",
              "      <th>job_title_short</th>\n",
              "      <th></th>\n",
              "      <th></th>\n",
              "    </tr>\n",
              "  </thead>\n",
              "  <tbody>\n",
              "    <tr>\n",
              "      <th>Business Analyst</th>\n",
              "      <td>85000.0</td>\n",
              "      <td>40.362499</td>\n",
              "    </tr>\n",
              "    <tr>\n",
              "      <th>Cloud Engineer</th>\n",
              "      <td>90000.0</td>\n",
              "      <td>40.000000</td>\n",
              "    </tr>\n",
              "    <tr>\n",
              "      <th>Data Analyst</th>\n",
              "      <td>90000.0</td>\n",
              "      <td>32.615002</td>\n",
              "    </tr>\n",
              "    <tr>\n",
              "      <th>Data Engineer</th>\n",
              "      <td>125000.0</td>\n",
              "      <td>58.500000</td>\n",
              "    </tr>\n",
              "    <tr>\n",
              "      <th>Data Scientist</th>\n",
              "      <td>127500.0</td>\n",
              "      <td>47.500000</td>\n",
              "    </tr>\n",
              "    <tr>\n",
              "      <th>Machine Learning Engineer</th>\n",
              "      <td>106415.0</td>\n",
              "      <td>47.535000</td>\n",
              "    </tr>\n",
              "    <tr>\n",
              "      <th>Senior Data Analyst</th>\n",
              "      <td>111175.0</td>\n",
              "      <td>47.500000</td>\n",
              "    </tr>\n",
              "    <tr>\n",
              "      <th>Senior Data Engineer</th>\n",
              "      <td>147500.0</td>\n",
              "      <td>61.500000</td>\n",
              "    </tr>\n",
              "    <tr>\n",
              "      <th>Senior Data Scientist</th>\n",
              "      <td>155500.0</td>\n",
              "      <td>47.620003</td>\n",
              "    </tr>\n",
              "    <tr>\n",
              "      <th>Software Engineer</th>\n",
              "      <td>99150.0</td>\n",
              "      <td>47.560001</td>\n",
              "    </tr>\n",
              "  </tbody>\n",
              "</table>\n",
              "</div>"
            ],
            "text/plain": [
              "                           salary_year_avg  salary_hour_avg\n",
              "job_title_short                                            \n",
              "Business Analyst                   85000.0        40.362499\n",
              "Cloud Engineer                     90000.0        40.000000\n",
              "Data Analyst                       90000.0        32.615002\n",
              "Data Engineer                     125000.0        58.500000\n",
              "Data Scientist                    127500.0        47.500000\n",
              "Machine Learning Engineer         106415.0        47.535000\n",
              "Senior Data Analyst               111175.0        47.500000\n",
              "Senior Data Engineer              147500.0        61.500000\n",
              "Senior Data Scientist             155500.0        47.620003\n",
              "Software Engineer                  99150.0        47.560001"
            ]
          },
          "execution_count": 10,
          "metadata": {},
          "output_type": "execute_result"
        }
      ],
      "source": [
        "df.groupby('job_title_short')[['salary_year_avg', 'salary_hour_avg']].median()"
      ]
    },
    {
      "cell_type": "code",
      "execution_count": 11,
      "metadata": {
        "colab": {
          "base_uri": "https://localhost:8080/",
          "height": 394
        },
        "id": "M3havVOvFwcI",
        "outputId": "cd30b706-9fdf-4774-d930-6fb12a87ca4e"
      },
      "outputs": [
        {
          "data": {
            "text/html": [
              "<div>\n",
              "<style scoped>\n",
              "    .dataframe tbody tr th:only-of-type {\n",
              "        vertical-align: middle;\n",
              "    }\n",
              "\n",
              "    .dataframe tbody tr th {\n",
              "        vertical-align: top;\n",
              "    }\n",
              "\n",
              "    .dataframe thead th {\n",
              "        text-align: right;\n",
              "    }\n",
              "</style>\n",
              "<table border=\"1\" class=\"dataframe\">\n",
              "  <thead>\n",
              "    <tr style=\"text-align: right;\">\n",
              "      <th></th>\n",
              "      <th>min</th>\n",
              "      <th>max</th>\n",
              "      <th>median</th>\n",
              "      <th>mean</th>\n",
              "    </tr>\n",
              "    <tr>\n",
              "      <th>job_title_short</th>\n",
              "      <th></th>\n",
              "      <th></th>\n",
              "      <th></th>\n",
              "      <th></th>\n",
              "    </tr>\n",
              "  </thead>\n",
              "  <tbody>\n",
              "    <tr>\n",
              "      <th>Business Analyst</th>\n",
              "      <td>16500.0</td>\n",
              "      <td>387460.0</td>\n",
              "      <td>85000.0</td>\n",
              "      <td>91082.612833</td>\n",
              "    </tr>\n",
              "    <tr>\n",
              "      <th>Cloud Engineer</th>\n",
              "      <td>42000.0</td>\n",
              "      <td>280000.0</td>\n",
              "      <td>90000.0</td>\n",
              "      <td>111268.453846</td>\n",
              "    </tr>\n",
              "    <tr>\n",
              "      <th>Data Analyst</th>\n",
              "      <td>25000.0</td>\n",
              "      <td>650000.0</td>\n",
              "      <td>90000.0</td>\n",
              "      <td>93841.907854</td>\n",
              "    </tr>\n",
              "    <tr>\n",
              "      <th>Data Engineer</th>\n",
              "      <td>15000.0</td>\n",
              "      <td>525000.0</td>\n",
              "      <td>125000.0</td>\n",
              "      <td>130125.604250</td>\n",
              "    </tr>\n",
              "    <tr>\n",
              "      <th>Data Scientist</th>\n",
              "      <td>27000.0</td>\n",
              "      <td>960000.0</td>\n",
              "      <td>127500.0</td>\n",
              "      <td>135988.837171</td>\n",
              "    </tr>\n",
              "    <tr>\n",
              "      <th>Machine Learning Engineer</th>\n",
              "      <td>30000.0</td>\n",
              "      <td>325000.0</td>\n",
              "      <td>106415.0</td>\n",
              "      <td>126774.315972</td>\n",
              "    </tr>\n",
              "    <tr>\n",
              "      <th>Senior Data Analyst</th>\n",
              "      <td>30000.0</td>\n",
              "      <td>425000.0</td>\n",
              "      <td>111175.0</td>\n",
              "      <td>113911.363665</td>\n",
              "    </tr>\n",
              "    <tr>\n",
              "      <th>Senior Data Engineer</th>\n",
              "      <td>35000.0</td>\n",
              "      <td>425000.0</td>\n",
              "      <td>147500.0</td>\n",
              "      <td>145840.611624</td>\n",
              "    </tr>\n",
              "    <tr>\n",
              "      <th>Senior Data Scientist</th>\n",
              "      <td>45000.0</td>\n",
              "      <td>890000.0</td>\n",
              "      <td>155500.0</td>\n",
              "      <td>154206.292996</td>\n",
              "    </tr>\n",
              "    <tr>\n",
              "      <th>Software Engineer</th>\n",
              "      <td>28000.0</td>\n",
              "      <td>375000.0</td>\n",
              "      <td>99150.0</td>\n",
              "      <td>113393.760054</td>\n",
              "    </tr>\n",
              "  </tbody>\n",
              "</table>\n",
              "</div>"
            ],
            "text/plain": [
              "                               min       max    median           mean\n",
              "job_title_short                                                      \n",
              "Business Analyst           16500.0  387460.0   85000.0   91082.612833\n",
              "Cloud Engineer             42000.0  280000.0   90000.0  111268.453846\n",
              "Data Analyst               25000.0  650000.0   90000.0   93841.907854\n",
              "Data Engineer              15000.0  525000.0  125000.0  130125.604250\n",
              "Data Scientist             27000.0  960000.0  127500.0  135988.837171\n",
              "Machine Learning Engineer  30000.0  325000.0  106415.0  126774.315972\n",
              "Senior Data Analyst        30000.0  425000.0  111175.0  113911.363665\n",
              "Senior Data Engineer       35000.0  425000.0  147500.0  145840.611624\n",
              "Senior Data Scientist      45000.0  890000.0  155500.0  154206.292996\n",
              "Software Engineer          28000.0  375000.0   99150.0  113393.760054"
            ]
          },
          "execution_count": 11,
          "metadata": {},
          "output_type": "execute_result"
        }
      ],
      "source": [
        "df.groupby('job_title_short')['salary_year_avg'].agg(['min', 'max', 'median', 'mean'])"
      ]
    },
    {
      "cell_type": "code",
      "execution_count": 12,
      "metadata": {
        "colab": {
          "base_uri": "https://localhost:8080/",
          "height": 429
        },
        "id": "L7OUmOyPF7-C",
        "outputId": "a1aa5e36-639b-4bb3-ff5b-2ce15fae2291"
      },
      "outputs": [
        {
          "data": {
            "text/plain": [
              "job_location\n",
              "Anywhere                       69552\n",
              "Singapore                      23415\n",
              "Paris, France                  12311\n",
              "Bengaluru, Karnataka, India    11474\n",
              "London, UK                     10564\n",
              "Madrid, Spain                   9787\n",
              "New York, NY                    8165\n",
              "India                           7660\n",
              "United States                   7454\n",
              "Hong Kong                       7341\n",
              "Name: count, dtype: int64"
            ]
          },
          "execution_count": 12,
          "metadata": {},
          "output_type": "execute_result"
        }
      ],
      "source": [
        "df['job_location'].value_counts().head(10)"
      ]
    },
    {
      "cell_type": "code",
      "execution_count": 13,
      "metadata": {
        "colab": {
          "base_uri": "https://localhost:8080/"
        },
        "id": "7Kq2VCZfHybo",
        "outputId": "fdf28d95-7814-4a8e-e5a6-a0f41a28fc60"
      },
      "outputs": [
        {
          "data": {
            "text/plain": [
              "np.False_"
            ]
          },
          "execution_count": 13,
          "metadata": {},
          "output_type": "execute_result"
        }
      ],
      "source": [
        "df['job_location'].isin(['North Korea']).any()"
      ]
    },
    {
      "cell_type": "code",
      "execution_count": 14,
      "metadata": {
        "id": "6DrjouEVIFxS"
      },
      "outputs": [],
      "source": [
        "us_job = df[df['job_country'] == 'United States']"
      ]
    },
    {
      "cell_type": "code",
      "execution_count": 15,
      "metadata": {
        "id": "x7g_X94dIxPv"
      },
      "outputs": [],
      "source": [
        "us_job = us_job[us_job['salary_year_avg'].notna()]"
      ]
    },
    {
      "cell_type": "code",
      "execution_count": 16,
      "metadata": {
        "colab": {
          "base_uri": "https://localhost:8080/",
          "height": 394
        },
        "id": "tKXIA11fJx5o",
        "outputId": "f071f11a-a1ce-4086-ced7-a2df76ef7c0f"
      },
      "outputs": [
        {
          "data": {
            "text/html": [
              "<div>\n",
              "<style scoped>\n",
              "    .dataframe tbody tr th:only-of-type {\n",
              "        vertical-align: middle;\n",
              "    }\n",
              "\n",
              "    .dataframe tbody tr th {\n",
              "        vertical-align: top;\n",
              "    }\n",
              "\n",
              "    .dataframe thead th {\n",
              "        text-align: right;\n",
              "    }\n",
              "</style>\n",
              "<table border=\"1\" class=\"dataframe\">\n",
              "  <thead>\n",
              "    <tr style=\"text-align: right;\">\n",
              "      <th></th>\n",
              "      <th>min</th>\n",
              "      <th>max</th>\n",
              "      <th>median</th>\n",
              "      <th>mean</th>\n",
              "    </tr>\n",
              "    <tr>\n",
              "      <th>job_title_short</th>\n",
              "      <th></th>\n",
              "      <th></th>\n",
              "      <th></th>\n",
              "      <th></th>\n",
              "    </tr>\n",
              "  </thead>\n",
              "  <tbody>\n",
              "    <tr>\n",
              "      <th>Business Analyst</th>\n",
              "      <td>35000.0</td>\n",
              "      <td>387460.0</td>\n",
              "      <td>90000.0</td>\n",
              "      <td>96175.447397</td>\n",
              "    </tr>\n",
              "    <tr>\n",
              "      <th>Data Analyst</th>\n",
              "      <td>25000.0</td>\n",
              "      <td>375000.0</td>\n",
              "      <td>90000.0</td>\n",
              "      <td>94553.964924</td>\n",
              "    </tr>\n",
              "    <tr>\n",
              "      <th>Senior Data Analyst</th>\n",
              "      <td>35360.0</td>\n",
              "      <td>425000.0</td>\n",
              "      <td>110000.0</td>\n",
              "      <td>115729.129954</td>\n",
              "    </tr>\n",
              "    <tr>\n",
              "      <th>Cloud Engineer</th>\n",
              "      <td>42000.0</td>\n",
              "      <td>221844.0</td>\n",
              "      <td>116100.0</td>\n",
              "      <td>120090.900000</td>\n",
              "    </tr>\n",
              "    <tr>\n",
              "      <th>Data Engineer</th>\n",
              "      <td>23496.0</td>\n",
              "      <td>525000.0</td>\n",
              "      <td>125000.0</td>\n",
              "      <td>134226.676753</td>\n",
              "    </tr>\n",
              "    <tr>\n",
              "      <th>Data Scientist</th>\n",
              "      <td>30000.0</td>\n",
              "      <td>960000.0</td>\n",
              "      <td>130000.0</td>\n",
              "      <td>139946.707204</td>\n",
              "    </tr>\n",
              "    <tr>\n",
              "      <th>Software Engineer</th>\n",
              "      <td>48982.0</td>\n",
              "      <td>375000.0</td>\n",
              "      <td>130000.0</td>\n",
              "      <td>137964.929588</td>\n",
              "    </tr>\n",
              "    <tr>\n",
              "      <th>Machine Learning Engineer</th>\n",
              "      <td>44408.5</td>\n",
              "      <td>315000.0</td>\n",
              "      <td>150000.0</td>\n",
              "      <td>154240.382812</td>\n",
              "    </tr>\n",
              "    <tr>\n",
              "      <th>Senior Data Engineer</th>\n",
              "      <td>45000.0</td>\n",
              "      <td>375000.0</td>\n",
              "      <td>150000.0</td>\n",
              "      <td>151448.023186</td>\n",
              "    </tr>\n",
              "    <tr>\n",
              "      <th>Senior Data Scientist</th>\n",
              "      <td>55000.0</td>\n",
              "      <td>475000.0</td>\n",
              "      <td>155000.0</td>\n",
              "      <td>159330.432029</td>\n",
              "    </tr>\n",
              "  </tbody>\n",
              "</table>\n",
              "</div>"
            ],
            "text/plain": [
              "                               min       max    median           mean\n",
              "job_title_short                                                      \n",
              "Business Analyst           35000.0  387460.0   90000.0   96175.447397\n",
              "Data Analyst               25000.0  375000.0   90000.0   94553.964924\n",
              "Senior Data Analyst        35360.0  425000.0  110000.0  115729.129954\n",
              "Cloud Engineer             42000.0  221844.0  116100.0  120090.900000\n",
              "Data Engineer              23496.0  525000.0  125000.0  134226.676753\n",
              "Data Scientist             30000.0  960000.0  130000.0  139946.707204\n",
              "Software Engineer          48982.0  375000.0  130000.0  137964.929588\n",
              "Machine Learning Engineer  44408.5  315000.0  150000.0  154240.382812\n",
              "Senior Data Engineer       45000.0  375000.0  150000.0  151448.023186\n",
              "Senior Data Scientist      55000.0  475000.0  155000.0  159330.432029"
            ]
          },
          "execution_count": 16,
          "metadata": {},
          "output_type": "execute_result"
        }
      ],
      "source": [
        "us_job.groupby('job_title_short')['salary_year_avg'].agg(['min', 'max', 'median', 'mean']).sort_values(by='median', ascending=True)"
      ]
    },
    {
      "cell_type": "code",
      "execution_count": 17,
      "metadata": {
        "id": "mTmz7VSENL2x"
      },
      "outputs": [],
      "source": [
        "from matplotlib import pyplot as plt\n",
        "import numpy as np\n"
      ]
    },
    {
      "cell_type": "code",
      "execution_count": 18,
      "metadata": {
        "colab": {
          "base_uri": "https://localhost:8080/",
          "height": 447
        },
        "id": "gR58d89kNgfZ",
        "outputId": "c31b7672-1820-40d1-c8e3-3b13666df541"
      },
      "outputs": [
        {
          "data": {
            "text/plain": [
              "[<matplotlib.lines.Line2D at 0x1ff106268d0>]"
            ]
          },
          "execution_count": 18,
          "metadata": {},
          "output_type": "execute_result"
        },
        {
          "data": {
            "image/png": "[encoded data removed]",
            "text/plain": [
              "<Figure size 640x480 with 1 Axes>"
            ]
          },
          "metadata": {},
          "output_type": "display_data"
        }
      ],
      "source": [
        "x = np.arange(0, 5, 0.1)\n",
        "y = np.sin(x)\n",
        "plt.plot(x, y)\n"
      ]
    },
    {
      "cell_type": "code",
      "execution_count": 19,
      "metadata": {
        "id": "NoPsAgmmOIm4"
      },
      "outputs": [],
      "source": [
        "x = [1, 2, 3, 4]\n",
        "y = [1, 2, 3, 4]"
      ]
    },
    {
      "cell_type": "code",
      "execution_count": 20,
      "metadata": {
        "colab": {
          "base_uri": "https://localhost:8080/",
          "height": 430
        },
        "id": "5UCHiekGwK7J",
        "outputId": "040f889d-fbe5-4c64-babf-4ab31a803e0e"
      },
      "outputs": [
        {
          "data": {
            "image/png": "[encoded data removed]",
            "text/plain": [
              "<Figure size 640x480 with 1 Axes>"
            ]
          },
          "metadata": {},
          "output_type": "display_data"
        }
      ],
      "source": [
        "plt.plot(x, y)\n",
        "plt.show()"
      ]
    },
    {
      "cell_type": "code",
      "execution_count": 21,
      "metadata": {
        "id": "8Hdzmgm1wXOM"
      },
      "outputs": [],
      "source": [
        "date_counts = df.job_posted_date.value_counts()\n",
        "date_counts = date_counts.sort_index()"
      ]
    },
    {
      "cell_type": "code",
      "execution_count": 22,
      "metadata": {
        "colab": {
          "base_uri": "https://localhost:8080/",
          "height": 204
        },
        "id": "RjZzoRdCwsIG",
        "outputId": "c11e7ff0-655e-4331-9cb6-41e1b1009b6e"
      },
      "outputs": [
        {
          "data": {
            "text/plain": [
              "pandas.core.series.Series"
            ]
          },
          "execution_count": 22,
          "metadata": {},
          "output_type": "execute_result"
        }
      ],
      "source": [
        "type(date_counts)"
      ]
    },
    {
      "cell_type": "code",
      "execution_count": 23,
      "metadata": {
        "colab": {
          "base_uri": "https://localhost:8080/",
          "height": 490
        },
        "id": "EayqJ930w3IN",
        "outputId": "494fc71c-4853-4b70-ee3c-0a01a0dab719"
      },
      "outputs": [
        {
          "data": {
            "text/plain": [
              "job_posted_date\n",
              "2023-01-01 00:00:04    1\n",
              "2023-01-01 00:00:07    1\n",
              "2023-01-01 00:00:22    1\n",
              "2023-01-01 00:00:24    1\n",
              "2023-01-01 00:00:27    1\n",
              "                      ..\n",
              "2023-12-31 23:40:18    2\n",
              "2023-12-31 23:40:22    2\n",
              "2023-12-31 23:40:31    2\n",
              "2023-12-31 23:40:32    1\n",
              "2023-12-31 23:59:58    2\n",
              "Name: count, Length: 607192, dtype: int64"
            ]
          },
          "execution_count": 23,
          "metadata": {},
          "output_type": "execute_result"
        }
      ],
      "source": [
        "date_counts"
      ]
    },
    {
      "cell_type": "code",
      "execution_count": 24,
      "metadata": {
        "colab": {
          "base_uri": "https://localhost:8080/",
          "height": 447
        },
        "id": "SMghMiIBxS1X",
        "outputId": "20b33a9c-6985-40c0-d6dc-3579ca0ad877"
      },
      "outputs": [
        {
          "data": {
            "text/plain": [
              "[<matplotlib.lines.Line2D at 0x1ff34919dd0>]"
            ]
          },
          "execution_count": 24,
          "metadata": {},
          "output_type": "execute_result"
        },
        {
          "data": {
            "image/png": "[encoded data removed]",
            "text/plain": [
              "<Figure size 640x480 with 1 Axes>"
            ]
          },
          "metadata": {},
          "output_type": "display_data"
        }
      ],
      "source": [
        "plt.plot(date_counts.index, date_counts)"
      ]
    },
    {
      "cell_type": "code",
      "execution_count": 25,
      "metadata": {
        "id": "R2ffawnlxhQQ"
      },
      "outputs": [],
      "source": [
        "df['job_posted_month'] = df['job_posted_date'].dt.month"
      ]
    },
    {
      "cell_type": "code",
      "execution_count": 26,
      "metadata": {
        "id": "ua5SSC9XyG-7"
      },
      "outputs": [],
      "source": [
        "month_count = df.job_posted_month.value_counts()\n",
        "month_count = month_count.sort_index()\n"
      ]
    },
    {
      "cell_type": "code",
      "execution_count": 27,
      "metadata": {
        "colab": {
          "base_uri": "https://localhost:8080/",
          "height": 430
        },
        "id": "WPh181LHyJql",
        "outputId": "e38a8b83-c51e-4b8c-891a-7bbe56625425"
      },
      "outputs": [
        {
          "data": {
            "image/png": "[encoded data removed]",
            "text/plain": [
              "<Figure size 640x480 with 1 Axes>"
            ]
          },
          "metadata": {},
          "output_type": "display_data"
        }
      ],
      "source": [
        "plt.plot(month_count.index, month_count.values)\n",
        "plt.show()"
      ]
    },
    {
      "cell_type": "code",
      "execution_count": 28,
      "metadata": {
        "id": "iHrDQxExyuUG"
      },
      "outputs": [],
      "source": [
        "job_count = df.job_title_short.value_counts()\n",
        "\n"
      ]
    },
    {
      "cell_type": "code",
      "execution_count": 29,
      "metadata": {
        "colab": {
          "base_uri": "https://localhost:8080/",
          "height": 429
        },
        "id": "hu185iiN04ul",
        "outputId": "9a09bbeb-0c0a-4c3b-fbac-f6ae78853efd"
      },
      "outputs": [
        {
          "data": {
            "text/plain": [
              "job_title_short\n",
              "Data Analyst                 196075\n",
              "Data Engineer                186241\n",
              "Data Scientist               172286\n",
              "Business Analyst              49063\n",
              "Software Engineer             44929\n",
              "Senior Data Engineer          44563\n",
              "Senior Data Scientist         36957\n",
              "Senior Data Analyst           29216\n",
              "Machine Learning Engineer     14080\n",
              "Cloud Engineer                12331\n",
              "Name: count, dtype: int64"
            ]
          },
          "execution_count": 29,
          "metadata": {},
          "output_type": "execute_result"
        }
      ],
      "source": [
        "job_count"
      ]
    },
    {
      "cell_type": "code",
      "execution_count": 30,
      "metadata": {
        "colab": {
          "base_uri": "https://localhost:8080/",
          "height": 601
        },
        "id": "VX89JAZ61HIg",
        "outputId": "96cf4819-bba4-458f-f650-06ca02c8ace7"
      },
      "outputs": [
        {
          "data": {
            "image/png": "[encoded data removed]",
            "text/plain": [
              "<Figure size 640x480 with 1 Axes>"
            ]
          },
          "metadata": {},
          "output_type": "display_data"
        }
      ],
      "source": [
        "plt.bar(job_count.index, job_count.values)\n",
        "plt.title('Postings by Job Title')\n",
        "plt.ylabel('Count of job posting')\n",
        "plt.xlabel('Job Title')\n",
        "plt.xticks(rotation=45, ha ='right')\n",
        "plt.show()\n"
      ]
    },
    {
      "cell_type": "code",
      "execution_count": 31,
      "metadata": {
        "colab": {
          "base_uri": "https://localhost:8080/",
          "height": 447
        },
        "id": "_rOuJoHx2Q2-",
        "outputId": "a6bdca4f-29fc-4fff-a086-d14108a5b013"
      },
      "outputs": [
        {
          "data": {
            "text/plain": [
              "<BarContainer object of 10 artists>"
            ]
          },
          "execution_count": 31,
          "metadata": {},
          "output_type": "execute_result"
        },
        {
          "data": {
            "image/png": "[encoded data removed]",
            "text/plain": [
              "<Figure size 640x480 with 1 Axes>"
            ]
          },
          "metadata": {},
          "output_type": "display_data"
        }
      ],
      "source": [
        "plt.bar(job_count.index, job_count.values)"
      ]
    },
    {
      "cell_type": "code",
      "execution_count": 32,
      "metadata": {
        "colab": {
          "base_uri": "https://localhost:8080/",
          "height": 642
        },
        "id": "HJdY9rRW4W_Z",
        "outputId": "60da8328-d723-4e5e-c047-4af311e2a84a"
      },
      "outputs": [
        {
          "data": {
            "text/plain": [
              "<Axes: xlabel='job_title_short'>"
            ]
          },
          "execution_count": 32,
          "metadata": {},
          "output_type": "execute_result"
        },
        {
          "data": {
            "image/png": "[encoded data removed]",
            "text/plain": [
              "<Figure size 640x480 with 1 Axes>"
            ]
          },
          "metadata": {},
          "output_type": "display_data"
        }
      ],
      "source": [
        "job_count.plot(kind='bar')"
      ]
    },
    {
      "cell_type": "code",
      "execution_count": 33,
      "metadata": {
        "id": "PEeLHIa-4bJb"
      },
      "outputs": [],
      "source": [
        "dataframe = df[['job_posted_month', 'salary_year_avg']].dropna(subset=['salary_year_avg'])"
      ]
    },
    {
      "cell_type": "code",
      "execution_count": 34,
      "metadata": {
        "id": "VzEKyhaN6qPh"
      },
      "outputs": [],
      "source": [
        "dataFrame = dataframe.sort_values(['job_posted_month' , 'salary_year_avg'])\n"
      ]
    },
    {
      "cell_type": "code",
      "execution_count": 35,
      "metadata": {
        "colab": {
          "base_uri": "https://localhost:8080/",
          "height": 424
        },
        "id": "HHgU8t0E7JqB",
        "outputId": "563a4b70-b67d-44d3-deae-ae6932483d23"
      },
      "outputs": [
        {
          "data": {
            "text/html": [
              "<div>\n",
              "<style scoped>\n",
              "    .dataframe tbody tr th:only-of-type {\n",
              "        vertical-align: middle;\n",
              "    }\n",
              "\n",
              "    .dataframe tbody tr th {\n",
              "        vertical-align: top;\n",
              "    }\n",
              "\n",
              "    .dataframe thead th {\n",
              "        text-align: right;\n",
              "    }\n",
              "</style>\n",
              "<table border=\"1\" class=\"dataframe\">\n",
              "  <thead>\n",
              "    <tr style=\"text-align: right;\">\n",
              "      <th></th>\n",
              "      <th>job_posted_month</th>\n",
              "      <th>salary_year_avg</th>\n",
              "    </tr>\n",
              "  </thead>\n",
              "  <tbody>\n",
              "    <tr>\n",
              "      <th>556386</th>\n",
              "      <td>1</td>\n",
              "      <td>32500.000000</td>\n",
              "    </tr>\n",
              "    <tr>\n",
              "      <th>770873</th>\n",
              "      <td>1</td>\n",
              "      <td>35000.000000</td>\n",
              "    </tr>\n",
              "    <tr>\n",
              "      <th>674338</th>\n",
              "      <td>1</td>\n",
              "      <td>37107.199219</td>\n",
              "    </tr>\n",
              "    <tr>\n",
              "      <th>326481</th>\n",
              "      <td>1</td>\n",
              "      <td>37500.000000</td>\n",
              "    </tr>\n",
              "    <tr>\n",
              "      <th>737524</th>\n",
              "      <td>1</td>\n",
              "      <td>39500.000000</td>\n",
              "    </tr>\n",
              "    <tr>\n",
              "      <th>...</th>\n",
              "      <td>...</td>\n",
              "      <td>...</td>\n",
              "    </tr>\n",
              "    <tr>\n",
              "      <th>472583</th>\n",
              "      <td>12</td>\n",
              "      <td>320000.000000</td>\n",
              "    </tr>\n",
              "    <tr>\n",
              "      <th>442148</th>\n",
              "      <td>12</td>\n",
              "      <td>325000.000000</td>\n",
              "    </tr>\n",
              "    <tr>\n",
              "      <th>317470</th>\n",
              "      <td>12</td>\n",
              "      <td>349500.000000</td>\n",
              "    </tr>\n",
              "    <tr>\n",
              "      <th>474325</th>\n",
              "      <td>12</td>\n",
              "      <td>450000.000000</td>\n",
              "    </tr>\n",
              "    <tr>\n",
              "      <th>387378</th>\n",
              "      <td>12</td>\n",
              "      <td>585000.000000</td>\n",
              "    </tr>\n",
              "  </tbody>\n",
              "</table>\n",
              "<p>22003 rows × 2 columns</p>\n",
              "</div>"
            ],
            "text/plain": [
              "        job_posted_month  salary_year_avg\n",
              "556386                 1     32500.000000\n",
              "770873                 1     35000.000000\n",
              "674338                 1     37107.199219\n",
              "326481                 1     37500.000000\n",
              "737524                 1     39500.000000\n",
              "...                  ...              ...\n",
              "472583                12    320000.000000\n",
              "442148                12    325000.000000\n",
              "317470                12    349500.000000\n",
              "474325                12    450000.000000\n",
              "387378                12    585000.000000\n",
              "\n",
              "[22003 rows x 2 columns]"
            ]
          },
          "execution_count": 35,
          "metadata": {},
          "output_type": "execute_result"
        }
      ],
      "source": [
        "dataFrame"
      ]
    },
    {
      "cell_type": "code",
      "execution_count": 36,
      "metadata": {
        "colab": {
          "base_uri": "https://localhost:8080/",
          "height": 482
        },
        "id": "gLUxb-7K5SwC",
        "outputId": "ead29f6d-7b58-4584-8013-fbeeafb5a8ff"
      },
      "outputs": [
        {
          "data": {
            "text/plain": [
              "<Axes: xlabel='job_posted_month'>"
            ]
          },
          "execution_count": 36,
          "metadata": {},
          "output_type": "execute_result"
        },
        {
          "data": {
            "image/png": "[encoded data removed]",
            "text/plain": [
              "<Figure size 640x480 with 1 Axes>"
            ]
          },
          "metadata": {},
          "output_type": "display_data"
        }
      ],
      "source": [
        "dataFrame.plot(x = 'job_posted_month', y = 'salary_year_avg', kind = 'line')"
      ]
    },
    {
      "cell_type": "code",
      "execution_count": 37,
      "metadata": {
        "colab": {
          "base_uri": "https://localhost:8080/",
          "height": 472
        },
        "id": "UY5xYEKo5tBM",
        "outputId": "b6b90c43-6092-453c-e87e-9918ea62bbd8"
      },
      "outputs": [
        {
          "data": {
            "image/png": "[encoded data removed]",
            "text/plain": [
              "<Figure size 640x480 with 1 Axes>"
            ]
          },
          "metadata": {},
          "output_type": "display_data"
        }
      ],
      "source": [
        "job_short = df.groupby('job_title_short')['salary_year_avg'].median().sort_values().plot(kind='barh')\n",
        "plt.title('Median salary by  job title')\n",
        "plt.xlabel('Salary')\n",
        "plt.ylabel('Job title')\n",
        "plt.show()\n"
      ]
    },
    {
      "cell_type": "code",
      "execution_count": null,
      "metadata": {
        "id": "UxMOqLxZAi-F"
      },
      "outputs": [],
      "source": []
    }
  ],
  "metadata": {
    "colab": {
      "provenance": []
    },
    "kernelspec": {
      "display_name": "python_env",
      "language": "python",
      "name": "python3"
    },
    "language_info": {
      "codemirror_mode": {
        "name": "ipython",
        "version": 3
      },
      "file_extension": ".py",
      "mimetype": "text/x-python",
      "name": "python",
      "nbconvert_exporter": "python",
      "pygments_lexer": "ipython3",
      "version": "3.11.11"
    },
    "widgets": {
      "application/vnd.jupyter.widget-state+json": {
        "0a69c1987bdf4db7b7dfeb25477c0bf7": {
          "model_module": "@jupyter-widgets/base",
          "model_module_version": "1.2.0",
          "model_name": "LayoutModel",
          "state": {
            "_model_module": "@jupyter-widgets/base",
            "_model_module_version": "1.2.0",
            "_model_name": "LayoutModel",
            "_view_count": null,
            "_view_module": "@jupyter-widgets/base",
            "_view_module_version": "1.2.0",
            "_view_name": "LayoutView",
            "align_content": null,
            "align_items": null,
            "align_self": null,
            "border": null,
            "bottom": null,
            "display": null,
            "flex": null,
            "flex_flow": null,
            "grid_area": null,
            "grid_auto_columns": null,
            "grid_auto_flow": null,
            "grid_auto_rows": null,
            "grid_column": null,
            "grid_gap": null,
            "grid_row": null,
            "grid_template_areas": null,
            "grid_template_columns": null,
            "grid_template_rows": null,
            "height": null,
            "justify_content": null,
            "justify_items": null,
            "left": null,
            "margin": null,
            "max_height": null,
            "max_width": null,
            "min_height": null,
            "min_width": null,
            "object_fit": null,
            "object_position": null,
            "order": null,
            "overflow": null,
            "overflow_x": null,
            "overflow_y": null,
            "padding": null,
            "right": null,
            "top": null,
            "visibility": null,
            "width": null
          }
        },
        "170e15e87f7b4ee9afb4035ecde8e690": {
          "model_module": "@jupyter-widgets/base",
          "model_module_version": "1.2.0",
          "model_name": "LayoutModel",
          "state": {
            "_model_module": "@jupyter-widgets/base",
            "_model_module_version": "1.2.0",
            "_model_name": "LayoutModel",
            "_view_count": null,
            "_view_module": "@jupyter-widgets/base",
            "_view_module_version": "1.2.0",
            "_view_name": "LayoutView",
            "align_content": null,
            "align_items": null,
            "align_self": null,
            "border": null,
            "bottom": null,
            "display": null,
            "flex": null,
            "flex_flow": null,
            "grid_area": null,
            "grid_auto_columns": null,
            "grid_auto_flow": null,
            "grid_auto_rows": null,
            "grid_column": null,
            "grid_gap": null,
            "grid_row": null,
            "grid_template_areas": null,
            "grid_template_columns": null,
            "grid_template_rows": null,
            "height": null,
            "justify_content": null,
            "justify_items": null,
            "left": null,
            "margin": null,
            "max_height": null,
            "max_width": null,
            "min_height": null,
            "min_width": null,
            "object_fit": null,
            "object_position": null,
            "order": null,
            "overflow": null,
            "overflow_x": null,
            "overflow_y": null,
            "padding": null,
            "right": null,
            "top": null,
            "visibility": null,
            "width": null
          }
        },
        "1dbdc36b059d4348920d2ba448c228c9": {
          "model_module": "@jupyter-widgets/controls",
          "model_module_version": "1.5.0",
          "model_name": "DescriptionStyleModel",
          "state": {
            "_model_module": "@jupyter-widgets/controls",
            "_model_module_version": "1.5.0",
            "_model_name": "DescriptionStyleModel",
            "_view_count": null,
            "_view_module": "@jupyter-widgets/base",
            "_view_module_version": "1.2.0",
            "_view_name": "StyleView",
            "description_width": ""
          }
        },
        "221c6c954e444ce3b91d96c6a44237e9": {
          "model_module": "@jupyter-widgets/controls",
          "model_module_version": "1.5.0",
          "model_name": "ProgressStyleModel",
          "state": {
            "_model_module": "@jupyter-widgets/controls",
            "_model_module_version": "1.5.0",
            "_model_name": "ProgressStyleModel",
            "_view_count": null,
            "_view_module": "@jupyter-widgets/base",
            "_view_module_version": "1.2.0",
            "_view_name": "StyleView",
            "bar_color": null,
            "description_width": ""
          }
        },
        "251a9dd4c0384eeebd04f752e05aad9f": {
          "model_module": "@jupyter-widgets/controls",
          "model_module_version": "1.5.0",
          "model_name": "DescriptionStyleModel",
          "state": {
            "_model_module": "@jupyter-widgets/controls",
            "_model_module_version": "1.5.0",
            "_model_name": "DescriptionStyleModel",
            "_view_count": null,
            "_view_module": "@jupyter-widgets/base",
            "_view_module_version": "1.2.0",
            "_view_name": "StyleView",
            "description_width": ""
          }
        },
        "2e8de2e3f5934bf8a45421010f9864af": {
          "model_module": "@jupyter-widgets/controls",
          "model_module_version": "1.5.0",
          "model_name": "HTMLModel",
          "state": {
            "_dom_classes": [],
            "_model_module": "@jupyter-widgets/controls",
            "_model_module_version": "1.5.0",
            "_model_name": "HTMLModel",
            "_view_count": null,
            "_view_module": "@jupyter-widgets/controls",
            "_view_module_version": "1.5.0",
            "_view_name": "HTMLView",
            "description": "",
            "description_tooltip": null,
            "layout": "IPY_MODEL_c4be06166a3c4bc388f39f11978b702f",
            "placeholder": "​",
            "style": "IPY_MODEL_a90e8ab7fba54e2bb0229b446cdafe03",
            "value": "Generating train split: 100%"
          }
        },
        "2eeb7629de7c4fc48db3fe282cf81a70": {
          "model_module": "@jupyter-widgets/controls",
          "model_module_version": "1.5.0",
          "model_name": "HTMLModel",
          "state": {
            "_dom_classes": [],
            "_model_module": "@jupyter-widgets/controls",
            "_model_module_version": "1.5.0",
            "_model_name": "HTMLModel",
            "_view_count": null,
            "_view_module": "@jupyter-widgets/controls",
            "_view_module_version": "1.5.0",
            "_view_name": "HTMLView",
            "description": "",
            "description_tooltip": null,
            "layout": "IPY_MODEL_b0007d8a379847b4817cf42d6026fafc",
            "placeholder": "​",
            "style": "IPY_MODEL_7e9e549e03b54497b7003f017655fb04",
            "value": "data_jobs.csv: 100%"
          }
        },
        "33e4b9497bf3452485c8d2d1684a6da5": {
          "model_module": "@jupyter-widgets/base",
          "model_module_version": "1.2.0",
          "model_name": "LayoutModel",
          "state": {
            "_model_module": "@jupyter-widgets/base",
            "_model_module_version": "1.2.0",
            "_model_name": "LayoutModel",
            "_view_count": null,
            "_view_module": "@jupyter-widgets/base",
            "_view_module_version": "1.2.0",
            "_view_name": "LayoutView",
            "align_content": null,
            "align_items": null,
            "align_self": null,
            "border": null,
            "bottom": null,
            "display": null,
            "flex": null,
            "flex_flow": null,
            "grid_area": null,
            "grid_auto_columns": null,
            "grid_auto_flow": null,
            "grid_auto_rows": null,
            "grid_column": null,
            "grid_gap": null,
            "grid_row": null,
            "grid_template_areas": null,
            "grid_template_columns": null,
            "grid_template_rows": null,
            "height": null,
            "justify_content": null,
            "justify_items": null,
            "left": null,
            "margin": null,
            "max_height": null,
            "max_width": null,
            "min_height": null,
            "min_width": null,
            "object_fit": null,
            "object_position": null,
            "order": null,
            "overflow": null,
            "overflow_x": null,
            "overflow_y": null,
            "padding": null,
            "right": null,
            "top": null,
            "visibility": null,
            "width": null
          }
        },
        "35c7f5b46a074ab5a7cef7050325691e": {
          "model_module": "@jupyter-widgets/controls",
          "model_module_version": "1.5.0",
          "model_name": "FloatProgressModel",
          "state": {
            "_dom_classes": [],
            "_model_module": "@jupyter-widgets/controls",
            "_model_module_version": "1.5.0",
            "_model_name": "FloatProgressModel",
            "_view_count": null,
            "_view_module": "@jupyter-widgets/controls",
            "_view_module_version": "1.5.0",
            "_view_name": "ProgressView",
            "bar_style": "success",
            "description": "",
            "description_tooltip": null,
            "layout": "IPY_MODEL_5a8e56385b7444af98f717decd2b0832",
            "max": 231152089,
            "min": 0,
            "orientation": "horizontal",
            "style": "IPY_MODEL_ed67165e79474389b62a8599488f52a2",
            "value": 231152089
          }
        },
        "4e963f8328674bf2a92a0db57a71115e": {
          "model_module": "@jupyter-widgets/base",
          "model_module_version": "1.2.0",
          "model_name": "LayoutModel",
          "state": {
            "_model_module": "@jupyter-widgets/base",
            "_model_module_version": "1.2.0",
            "_model_name": "LayoutModel",
            "_view_count": null,
            "_view_module": "@jupyter-widgets/base",
            "_view_module_version": "1.2.0",
            "_view_name": "LayoutView",
            "align_content": null,
            "align_items": null,
            "align_self": null,
            "border": null,
            "bottom": null,
            "display": null,
            "flex": null,
            "flex_flow": null,
            "grid_area": null,
            "grid_auto_columns": null,
            "grid_auto_flow": null,
            "grid_auto_rows": null,
            "grid_column": null,
            "grid_gap": null,
            "grid_row": null,
            "grid_template_areas": null,
            "grid_template_columns": null,
            "grid_template_rows": null,
            "height": null,
            "justify_content": null,
            "justify_items": null,
            "left": null,
            "margin": null,
            "max_height": null,
            "max_width": null,
            "min_height": null,
            "min_width": null,
            "object_fit": null,
            "object_position": null,
            "order": null,
            "overflow": null,
            "overflow_x": null,
            "overflow_y": null,
            "padding": null,
            "right": null,
            "top": null,
            "visibility": null,
            "width": null
          }
        },
        "5a8e56385b7444af98f717decd2b0832": {
          "model_module": "@jupyter-widgets/base",
          "model_module_version": "1.2.0",
          "model_name": "LayoutModel",
          "state": {
            "_model_module": "@jupyter-widgets/base",
            "_model_module_version": "1.2.0",
            "_model_name": "LayoutModel",
            "_view_count": null,
            "_view_module": "@jupyter-widgets/base",
            "_view_module_version": "1.2.0",
            "_view_name": "LayoutView",
            "align_content": null,
            "align_items": null,
            "align_self": null,
            "border": null,
            "bottom": null,
            "display": null,
            "flex": null,
            "flex_flow": null,
            "grid_area": null,
            "grid_auto_columns": null,
            "grid_auto_flow": null,
            "grid_auto_rows": null,
            "grid_column": null,
            "grid_gap": null,
            "grid_row": null,
            "grid_template_areas": null,
            "grid_template_columns": null,
            "grid_template_rows": null,
            "height": null,
            "justify_content": null,
            "justify_items": null,
            "left": null,
            "margin": null,
            "max_height": null,
            "max_width": null,
            "min_height": null,
            "min_width": null,
            "object_fit": null,
            "object_position": null,
            "order": null,
            "overflow": null,
            "overflow_x": null,
            "overflow_y": null,
            "padding": null,
            "right": null,
            "top": null,
            "visibility": null,
            "width": null
          }
        },
        "61941c348fba42328788e88be8d5aef1": {
          "model_module": "@jupyter-widgets/controls",
          "model_module_version": "1.5.0",
          "model_name": "HTMLModel",
          "state": {
            "_dom_classes": [],
            "_model_module": "@jupyter-widgets/controls",
            "_model_module_version": "1.5.0",
            "_model_name": "HTMLModel",
            "_view_count": null,
            "_view_module": "@jupyter-widgets/controls",
            "_view_module_version": "1.5.0",
            "_view_name": "HTMLView",
            "description": "",
            "description_tooltip": null,
            "layout": "IPY_MODEL_89a253efd9be4e6695fedb70be141f75",
            "placeholder": "​",
            "style": "IPY_MODEL_a2dec25b4f9a4877acf4d333109d8bb0",
            "value": " 231M/231M [00:03&lt;00:00, 72.2MB/s]"
          }
        },
        "653942d33e3b4773a68570da4913cedc": {
          "model_module": "@jupyter-widgets/controls",
          "model_module_version": "1.5.0",
          "model_name": "HBoxModel",
          "state": {
            "_dom_classes": [],
            "_model_module": "@jupyter-widgets/controls",
            "_model_module_version": "1.5.0",
            "_model_name": "HBoxModel",
            "_view_count": null,
            "_view_module": "@jupyter-widgets/controls",
            "_view_module_version": "1.5.0",
            "_view_name": "HBoxView",
            "box_style": "",
            "children": [
              "IPY_MODEL_2eeb7629de7c4fc48db3fe282cf81a70",
              "IPY_MODEL_35c7f5b46a074ab5a7cef7050325691e",
              "IPY_MODEL_61941c348fba42328788e88be8d5aef1"
            ],
            "layout": "IPY_MODEL_c328a9596d664b3b94b7fdb59baf5592"
          }
        },
        "66652c41cc914267a3c4d0a6092db049": {
          "model_module": "@jupyter-widgets/controls",
          "model_module_version": "1.5.0",
          "model_name": "HTMLModel",
          "state": {
            "_dom_classes": [],
            "_model_module": "@jupyter-widgets/controls",
            "_model_module_version": "1.5.0",
            "_model_name": "HTMLModel",
            "_view_count": null,
            "_view_module": "@jupyter-widgets/controls",
            "_view_module_version": "1.5.0",
            "_view_name": "HTMLView",
            "description": "",
            "description_tooltip": null,
            "layout": "IPY_MODEL_d50f925a4d4f416da65c99fba1e77ca5",
            "placeholder": "​",
            "style": "IPY_MODEL_a2e931548a89480ebae327cd93c10a79",
            "value": " 785741/785741 [00:14&lt;00:00, 115013.70 examples/s]"
          }
        },
        "766c031a7f6241cdb1ec65d0c9eeed42": {
          "model_module": "@jupyter-widgets/base",
          "model_module_version": "1.2.0",
          "model_name": "LayoutModel",
          "state": {
            "_model_module": "@jupyter-widgets/base",
            "_model_module_version": "1.2.0",
            "_model_name": "LayoutModel",
            "_view_count": null,
            "_view_module": "@jupyter-widgets/base",
            "_view_module_version": "1.2.0",
            "_view_name": "LayoutView",
            "align_content": null,
            "align_items": null,
            "align_self": null,
            "border": null,
            "bottom": null,
            "display": null,
            "flex": null,
            "flex_flow": null,
            "grid_area": null,
            "grid_auto_columns": null,
            "grid_auto_flow": null,
            "grid_auto_rows": null,
            "grid_column": null,
            "grid_gap": null,
            "grid_row": null,
            "grid_template_areas": null,
            "grid_template_columns": null,
            "grid_template_rows": null,
            "height": null,
            "justify_content": null,
            "justify_items": null,
            "left": null,
            "margin": null,
            "max_height": null,
            "max_width": null,
            "min_height": null,
            "min_width": null,
            "object_fit": null,
            "object_position": null,
            "order": null,
            "overflow": null,
            "overflow_x": null,
            "overflow_y": null,
            "padding": null,
            "right": null,
            "top": null,
            "visibility": null,
            "width": null
          }
        },
        "77acae76b1414c2cadb8308fd431477f": {
          "model_module": "@jupyter-widgets/base",
          "model_module_version": "1.2.0",
          "model_name": "LayoutModel",
          "state": {
            "_model_module": "@jupyter-widgets/base",
            "_model_module_version": "1.2.0",
            "_model_name": "LayoutModel",
            "_view_count": null,
            "_view_module": "@jupyter-widgets/base",
            "_view_module_version": "1.2.0",
            "_view_name": "LayoutView",
            "align_content": null,
            "align_items": null,
            "align_self": null,
            "border": null,
            "bottom": null,
            "display": null,
            "flex": null,
            "flex_flow": null,
            "grid_area": null,
            "grid_auto_columns": null,
            "grid_auto_flow": null,
            "grid_auto_rows": null,
            "grid_column": null,
            "grid_gap": null,
            "grid_row": null,
            "grid_template_areas": null,
            "grid_template_columns": null,
            "grid_template_rows": null,
            "height": null,
            "justify_content": null,
            "justify_items": null,
            "left": null,
            "margin": null,
            "max_height": null,
            "max_width": null,
            "min_height": null,
            "min_width": null,
            "object_fit": null,
            "object_position": null,
            "order": null,
            "overflow": null,
            "overflow_x": null,
            "overflow_y": null,
            "padding": null,
            "right": null,
            "top": null,
            "visibility": null,
            "width": null
          }
        },
        "7e9e549e03b54497b7003f017655fb04": {
          "model_module": "@jupyter-widgets/controls",
          "model_module_version": "1.5.0",
          "model_name": "DescriptionStyleModel",
          "state": {
            "_model_module": "@jupyter-widgets/controls",
            "_model_module_version": "1.5.0",
            "_model_name": "DescriptionStyleModel",
            "_view_count": null,
            "_view_module": "@jupyter-widgets/base",
            "_view_module_version": "1.2.0",
            "_view_name": "StyleView",
            "description_width": ""
          }
        },
        "7f8d1840572f4e99b3eb824126d5be29": {
          "model_module": "@jupyter-widgets/controls",
          "model_module_version": "1.5.0",
          "model_name": "HTMLModel",
          "state": {
            "_dom_classes": [],
            "_model_module": "@jupyter-widgets/controls",
            "_model_module_version": "1.5.0",
            "_model_name": "HTMLModel",
            "_view_count": null,
            "_view_module": "@jupyter-widgets/controls",
            "_view_module_version": "1.5.0",
            "_view_name": "HTMLView",
            "description": "",
            "description_tooltip": null,
            "layout": "IPY_MODEL_766c031a7f6241cdb1ec65d0c9eeed42",
            "placeholder": "​",
            "style": "IPY_MODEL_251a9dd4c0384eeebd04f752e05aad9f",
            "value": " 28.0/28.0 [00:00&lt;00:00, 654B/s]"
          }
        },
        "82ee90da73604a77a6081823230a92e4": {
          "model_module": "@jupyter-widgets/controls",
          "model_module_version": "1.5.0",
          "model_name": "FloatProgressModel",
          "state": {
            "_dom_classes": [],
            "_model_module": "@jupyter-widgets/controls",
            "_model_module_version": "1.5.0",
            "_model_name": "FloatProgressModel",
            "_view_count": null,
            "_view_module": "@jupyter-widgets/controls",
            "_view_module_version": "1.5.0",
            "_view_name": "ProgressView",
            "bar_style": "success",
            "description": "",
            "description_tooltip": null,
            "layout": "IPY_MODEL_4e963f8328674bf2a92a0db57a71115e",
            "max": 785741,
            "min": 0,
            "orientation": "horizontal",
            "style": "IPY_MODEL_d1bd1e9e5b2c425cb2fe1cc7207f9c44",
            "value": 785741
          }
        },
        "89a253efd9be4e6695fedb70be141f75": {
          "model_module": "@jupyter-widgets/base",
          "model_module_version": "1.2.0",
          "model_name": "LayoutModel",
          "state": {
            "_model_module": "@jupyter-widgets/base",
            "_model_module_version": "1.2.0",
            "_model_name": "LayoutModel",
            "_view_count": null,
            "_view_module": "@jupyter-widgets/base",
            "_view_module_version": "1.2.0",
            "_view_name": "LayoutView",
            "align_content": null,
            "align_items": null,
            "align_self": null,
            "border": null,
            "bottom": null,
            "display": null,
            "flex": null,
            "flex_flow": null,
            "grid_area": null,
            "grid_auto_columns": null,
            "grid_auto_flow": null,
            "grid_auto_rows": null,
            "grid_column": null,
            "grid_gap": null,
            "grid_row": null,
            "grid_template_areas": null,
            "grid_template_columns": null,
            "grid_template_rows": null,
            "height": null,
            "justify_content": null,
            "justify_items": null,
            "left": null,
            "margin": null,
            "max_height": null,
            "max_width": null,
            "min_height": null,
            "min_width": null,
            "object_fit": null,
            "object_position": null,
            "order": null,
            "overflow": null,
            "overflow_x": null,
            "overflow_y": null,
            "padding": null,
            "right": null,
            "top": null,
            "visibility": null,
            "width": null
          }
        },
        "95404dac969f4712b2a7979e065f9917": {
          "model_module": "@jupyter-widgets/controls",
          "model_module_version": "1.5.0",
          "model_name": "HBoxModel",
          "state": {
            "_dom_classes": [],
            "_model_module": "@jupyter-widgets/controls",
            "_model_module_version": "1.5.0",
            "_model_name": "HBoxModel",
            "_view_count": null,
            "_view_module": "@jupyter-widgets/controls",
            "_view_module_version": "1.5.0",
            "_view_name": "HBoxView",
            "box_style": "",
            "children": [
              "IPY_MODEL_f120199922094ff7bcb219f51d4dd090",
              "IPY_MODEL_ee4a103e5d054e428b8f57269ad7a16e",
              "IPY_MODEL_7f8d1840572f4e99b3eb824126d5be29"
            ],
            "layout": "IPY_MODEL_77acae76b1414c2cadb8308fd431477f"
          }
        },
        "a2dec25b4f9a4877acf4d333109d8bb0": {
          "model_module": "@jupyter-widgets/controls",
          "model_module_version": "1.5.0",
          "model_name": "DescriptionStyleModel",
          "state": {
            "_model_module": "@jupyter-widgets/controls",
            "_model_module_version": "1.5.0",
            "_model_name": "DescriptionStyleModel",
            "_view_count": null,
            "_view_module": "@jupyter-widgets/base",
            "_view_module_version": "1.2.0",
            "_view_name": "StyleView",
            "description_width": ""
          }
        },
        "a2e931548a89480ebae327cd93c10a79": {
          "model_module": "@jupyter-widgets/controls",
          "model_module_version": "1.5.0",
          "model_name": "DescriptionStyleModel",
          "state": {
            "_model_module": "@jupyter-widgets/controls",
            "_model_module_version": "1.5.0",
            "_model_name": "DescriptionStyleModel",
            "_view_count": null,
            "_view_module": "@jupyter-widgets/base",
            "_view_module_version": "1.2.0",
            "_view_name": "StyleView",
            "description_width": ""
          }
        },
        "a90e8ab7fba54e2bb0229b446cdafe03": {
          "model_module": "@jupyter-widgets/controls",
          "model_module_version": "1.5.0",
          "model_name": "DescriptionStyleModel",
          "state": {
            "_model_module": "@jupyter-widgets/controls",
            "_model_module_version": "1.5.0",
            "_model_name": "DescriptionStyleModel",
            "_view_count": null,
            "_view_module": "@jupyter-widgets/base",
            "_view_module_version": "1.2.0",
            "_view_name": "StyleView",
            "description_width": ""
          }
        },
        "b0007d8a379847b4817cf42d6026fafc": {
          "model_module": "@jupyter-widgets/base",
          "model_module_version": "1.2.0",
          "model_name": "LayoutModel",
          "state": {
            "_model_module": "@jupyter-widgets/base",
            "_model_module_version": "1.2.0",
            "_model_name": "LayoutModel",
            "_view_count": null,
            "_view_module": "@jupyter-widgets/base",
            "_view_module_version": "1.2.0",
            "_view_name": "LayoutView",
            "align_content": null,
            "align_items": null,
            "align_self": null,
            "border": null,
            "bottom": null,
            "display": null,
            "flex": null,
            "flex_flow": null,
            "grid_area": null,
            "grid_auto_columns": null,
            "grid_auto_flow": null,
            "grid_auto_rows": null,
            "grid_column": null,
            "grid_gap": null,
            "grid_row": null,
            "grid_template_areas": null,
            "grid_template_columns": null,
            "grid_template_rows": null,
            "height": null,
            "justify_content": null,
            "justify_items": null,
            "left": null,
            "margin": null,
            "max_height": null,
            "max_width": null,
            "min_height": null,
            "min_width": null,
            "object_fit": null,
            "object_position": null,
            "order": null,
            "overflow": null,
            "overflow_x": null,
            "overflow_y": null,
            "padding": null,
            "right": null,
            "top": null,
            "visibility": null,
            "width": null
          }
        },
        "c328a9596d664b3b94b7fdb59baf5592": {
          "model_module": "@jupyter-widgets/base",
          "model_module_version": "1.2.0",
          "model_name": "LayoutModel",
          "state": {
            "_model_module": "@jupyter-widgets/base",
            "_model_module_version": "1.2.0",
            "_model_name": "LayoutModel",
            "_view_count": null,
            "_view_module": "@jupyter-widgets/base",
            "_view_module_version": "1.2.0",
            "_view_name": "LayoutView",
            "align_content": null,
            "align_items": null,
            "align_self": null,
            "border": null,
            "bottom": null,
            "display": null,
            "flex": null,
            "flex_flow": null,
            "grid_area": null,
            "grid_auto_columns": null,
            "grid_auto_flow": null,
            "grid_auto_rows": null,
            "grid_column": null,
            "grid_gap": null,
            "grid_row": null,
            "grid_template_areas": null,
            "grid_template_columns": null,
            "grid_template_rows": null,
            "height": null,
            "justify_content": null,
            "justify_items": null,
            "left": null,
            "margin": null,
            "max_height": null,
            "max_width": null,
            "min_height": null,
            "min_width": null,
            "object_fit": null,
            "object_position": null,
            "order": null,
            "overflow": null,
            "overflow_x": null,
            "overflow_y": null,
            "padding": null,
            "right": null,
            "top": null,
            "visibility": null,
            "width": null
          }
        },
        "c4be06166a3c4bc388f39f11978b702f": {
          "model_module": "@jupyter-widgets/base",
          "model_module_version": "1.2.0",
          "model_name": "LayoutModel",
          "state": {
            "_model_module": "@jupyter-widgets/base",
            "_model_module_version": "1.2.0",
            "_model_name": "LayoutModel",
            "_view_count": null,
            "_view_module": "@jupyter-widgets/base",
            "_view_module_version": "1.2.0",
            "_view_name": "LayoutView",
            "align_content": null,
            "align_items": null,
            "align_self": null,
            "border": null,
            "bottom": null,
            "display": null,
            "flex": null,
            "flex_flow": null,
            "grid_area": null,
            "grid_auto_columns": null,
            "grid_auto_flow": null,
            "grid_auto_rows": null,
            "grid_column": null,
            "grid_gap": null,
            "grid_row": null,
            "grid_template_areas": null,
            "grid_template_columns": null,
            "grid_template_rows": null,
            "height": null,
            "justify_content": null,
            "justify_items": null,
            "left": null,
            "margin": null,
            "max_height": null,
            "max_width": null,
            "min_height": null,
            "min_width": null,
            "object_fit": null,
            "object_position": null,
            "order": null,
            "overflow": null,
            "overflow_x": null,
            "overflow_y": null,
            "padding": null,
            "right": null,
            "top": null,
            "visibility": null,
            "width": null
          }
        },
        "d1bd1e9e5b2c425cb2fe1cc7207f9c44": {
          "model_module": "@jupyter-widgets/controls",
          "model_module_version": "1.5.0",
          "model_name": "ProgressStyleModel",
          "state": {
            "_model_module": "@jupyter-widgets/controls",
            "_model_module_version": "1.5.0",
            "_model_name": "ProgressStyleModel",
            "_view_count": null,
            "_view_module": "@jupyter-widgets/base",
            "_view_module_version": "1.2.0",
            "_view_name": "StyleView",
            "bar_color": null,
            "description_width": ""
          }
        },
        "d50f925a4d4f416da65c99fba1e77ca5": {
          "model_module": "@jupyter-widgets/base",
          "model_module_version": "1.2.0",
          "model_name": "LayoutModel",
          "state": {
            "_model_module": "@jupyter-widgets/base",
            "_model_module_version": "1.2.0",
            "_model_name": "LayoutModel",
            "_view_count": null,
            "_view_module": "@jupyter-widgets/base",
            "_view_module_version": "1.2.0",
            "_view_name": "LayoutView",
            "align_content": null,
            "align_items": null,
            "align_self": null,
            "border": null,
            "bottom": null,
            "display": null,
            "flex": null,
            "flex_flow": null,
            "grid_area": null,
            "grid_auto_columns": null,
            "grid_auto_flow": null,
            "grid_auto_rows": null,
            "grid_column": null,
            "grid_gap": null,
            "grid_row": null,
            "grid_template_areas": null,
            "grid_template_columns": null,
            "grid_template_rows": null,
            "height": null,
            "justify_content": null,
            "justify_items": null,
            "left": null,
            "margin": null,
            "max_height": null,
            "max_width": null,
            "min_height": null,
            "min_width": null,
            "object_fit": null,
            "object_position": null,
            "order": null,
            "overflow": null,
            "overflow_x": null,
            "overflow_y": null,
            "padding": null,
            "right": null,
            "top": null,
            "visibility": null,
            "width": null
          }
        },
        "d8cf1a18b76947e283eb774121abfed7": {
          "model_module": "@jupyter-widgets/controls",
          "model_module_version": "1.5.0",
          "model_name": "HBoxModel",
          "state": {
            "_dom_classes": [],
            "_model_module": "@jupyter-widgets/controls",
            "_model_module_version": "1.5.0",
            "_model_name": "HBoxModel",
            "_view_count": null,
            "_view_module": "@jupyter-widgets/controls",
            "_view_module_version": "1.5.0",
            "_view_name": "HBoxView",
            "box_style": "",
            "children": [
              "IPY_MODEL_2e8de2e3f5934bf8a45421010f9864af",
              "IPY_MODEL_82ee90da73604a77a6081823230a92e4",
              "IPY_MODEL_66652c41cc914267a3c4d0a6092db049"
            ],
            "layout": "IPY_MODEL_170e15e87f7b4ee9afb4035ecde8e690"
          }
        },
        "ed67165e79474389b62a8599488f52a2": {
          "model_module": "@jupyter-widgets/controls",
          "model_module_version": "1.5.0",
          "model_name": "ProgressStyleModel",
          "state": {
            "_model_module": "@jupyter-widgets/controls",
            "_model_module_version": "1.5.0",
            "_model_name": "ProgressStyleModel",
            "_view_count": null,
            "_view_module": "@jupyter-widgets/base",
            "_view_module_version": "1.2.0",
            "_view_name": "StyleView",
            "bar_color": null,
            "description_width": ""
          }
        },
        "ee4a103e5d054e428b8f57269ad7a16e": {
          "model_module": "@jupyter-widgets/controls",
          "model_module_version": "1.5.0",
          "model_name": "FloatProgressModel",
          "state": {
            "_dom_classes": [],
            "_model_module": "@jupyter-widgets/controls",
            "_model_module_version": "1.5.0",
            "_model_name": "FloatProgressModel",
            "_view_count": null,
            "_view_module": "@jupyter-widgets/controls",
            "_view_module_version": "1.5.0",
            "_view_name": "ProgressView",
            "bar_style": "success",
            "description": "",
            "description_tooltip": null,
            "layout": "IPY_MODEL_0a69c1987bdf4db7b7dfeb25477c0bf7",
            "max": 28,
            "min": 0,
            "orientation": "horizontal",
            "style": "IPY_MODEL_221c6c954e444ce3b91d96c6a44237e9",
            "value": 28
          }
        },
        "f120199922094ff7bcb219f51d4dd090": {
          "model_module": "@jupyter-widgets/controls",
          "model_module_version": "1.5.0",
          "model_name": "HTMLModel",
          "state": {
            "_dom_classes": [],
            "_model_module": "@jupyter-widgets/controls",
            "_model_module_version": "1.5.0",
            "_model_name": "HTMLModel",
            "_view_count": null,
            "_view_module": "@jupyter-widgets/controls",
            "_view_module_version": "1.5.0",
            "_view_name": "HTMLView",
            "description": "",
            "description_tooltip": null,
            "layout": "IPY_MODEL_33e4b9497bf3452485c8d2d1684a6da5",
            "placeholder": "​",
            "style": "IPY_MODEL_1dbdc36b059d4348920d2ba448c228c9",
            "value": "README.md: 100%"
          }
        }
      }
    }
  },
  "nbformat": 4,
  "nbformat_minor": 0
}
